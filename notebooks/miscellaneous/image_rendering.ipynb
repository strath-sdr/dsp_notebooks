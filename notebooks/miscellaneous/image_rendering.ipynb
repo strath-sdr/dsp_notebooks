{
 "cells": [
  {
   "cell_type": "markdown",
   "metadata": {},
   "source": [
    "Markdown syntax\n",
    "![University of Strathclyde](../../strathclyde_banner.png)"
   ]
  },
  {
   "cell_type": "markdown",
   "metadata": {},
   "source": [
    "HTML\n",
    "<img src=\"../../strathclyde_banner.png\" width=\"100%\">"
   ]
  },
  {
   "cell_type": "markdown",
   "metadata": {},
   "source": [
    "HTML with closing tag\n",
    "\n",
    "<img src=\"../../strathclyde_banner.png\" width=\"550px\" />"
   ]
  },
  {
   "cell_type": "markdown",
   "metadata": {},
   "source": [
    "Local paths\n",
    "![Strathclyde banner](strathclyde_banner.png)\n",
    "<img src=\"strathclyde_banner.png\">"
   ]
  },
  {
   "cell_type": "markdown",
   "metadata": {},
   "source": [
    "No underscore in name\n",
    "![University of Strathclyde](strathclyde.png)"
   ]
  },
  {
   "cell_type": "markdown",
   "metadata": {},
   "source": [
    "Same but with capital PNG\n",
    "![University of Strathclyde](strathy_banner.PNG)\n",
    "<img src=\"strathy_banner.PNG\">"
   ]
  }
 ],
 "metadata": {
  "kernelspec": {
   "display_name": "Python 3",
   "language": "python",
   "name": "python3"
  },
  "language_info": {
   "codemirror_mode": {
    "name": "ipython",
    "version": 3
   },
   "file_extension": ".py",
   "mimetype": "text/x-python",
   "name": "python",
   "nbconvert_exporter": "python",
   "pygments_lexer": "ipython3",
   "version": "3.8.3"
  }
 },
 "nbformat": 4,
 "nbformat_minor": 4
}
